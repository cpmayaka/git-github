{
  "nbformat": 4,
  "nbformat_minor": 0,
  "metadata": {
    "colab": {
      "name": "Untitled0.ipynb",
      "provenance": [],
      "toc_visible": true,
      "authorship_tag": "ABX9TyPVi8qDjxhCIgSFUDK2aa5r",
      "include_colab_link": true
    },
    "kernelspec": {
      "name": "python3",
      "display_name": "Python 3"
    },
    "language_info": {
      "name": "python"
    }
  },
  "cells": [
    {
      "cell_type": "markdown",
      "metadata": {
        "id": "view-in-github",
        "colab_type": "text"
      },
      "source": [
        "<a href=\"https://colab.research.google.com/github/cpmayaka/git-github/blob/main/Assignment%202.ipynb\" target=\"_parent\"><img src=\"https://colab.research.google.com/assets/colab-badge.svg\" alt=\"Open In Colab\"/></a>"
      ]
    },
    {
      "cell_type": "code",
      "metadata": {
        "colab": {
          "base_uri": "https://localhost:8080/"
        },
        "id": "1WL8l8UP17uw",
        "outputId": "93372a3f-54c3-4216-dea1-2c3f7919e2ad"
      },
      "source": [
        "#Enter first and last name\n",
        "names = input(\"Enter first and last name\")\n",
        "print(names)\n",
        "print()\n",
        "#Enter your goals for this class\n",
        "print(\"What are your goals for this class - long term goals?\")\n",
        "goals = input('What would you like to be....when all is said and done with the class?')\n",
        "print(goals)"
      ],
      "execution_count": 3,
      "outputs": [
        {
          "output_type": "stream",
          "text": [
            "Enter first and last nameChris Mayaka\n",
            "Chris Mayaka\n",
            "\n",
            "What are your goals for this class - long term goals?\n",
            "What would you like to be....when all is said and done with the class?Augment Cybersecurity Skills\n",
            "Augment Cybersecurity Skills\n"
          ],
          "name": "stdout"
        }
      ]
    },
    {
      "cell_type": "markdown",
      "metadata": {
        "id": "Vsxyo78S2Z7M"
      },
      "source": [
        "# Assignment 1"
      ]
    },
    {
      "cell_type": "markdown",
      "metadata": {
        "id": "JtFYVmlH8mJ7"
      },
      "source": [
        "Assignment 2"
      ]
    },
    {
      "cell_type": "code",
      "metadata": {
        "colab": {
          "base_uri": "https://localhost:8080/"
        },
        "id": "2pQJ-G9pEU11",
        "outputId": "6c7a5651-719a-446c-f9b2-0b3175c31d02"
      },
      "source": [
        "#Enter first and last name\n",
        "names = input(\"Enter first and last name\")\n",
        "print(names)\n",
        "print()\n",
        "#Enter Country of Origin\n",
        "country = input(\"Enter Country of Origin \")\n",
        "print(country)\n",
        "print()\n",
        "#Enter nature of your current job\n",
        "job = input(\"Enter nature of your current job\")\n",
        "print(job)\n",
        "print()\n",
        "#Enter email address\n",
        "email = input(\"Enter your email address\")\n",
        "print(email)\n",
        "print()\n",
        "#Enter phone number\n",
        "phone = input(\"Enter your phone number\")\n",
        "print(phone)\n",
        "print()\n",
        "#Enter current city of residence\n",
        "city = input(\"Enter your current city of residence\")\n",
        "print(city)\n",
        "print()\n",
        "#Enter Mailing address/ Physical address\n",
        "Address = input('What is your Mailing address/ Physical address?')\n",
        "print(Address)\n",
        "\n"
      ],
      "execution_count": 8,
      "outputs": [
        {
          "output_type": "stream",
          "text": [
            "Enter first and last nameChris M\n",
            "Chris M\n",
            "\n",
            "Enter Country of Origin KE\n",
            "KE\n",
            "\n",
            "Enter nature of your current jobTech Buster\n",
            "Tech Buster\n",
            "\n",
            "Enter your email addresstechbuster@techbuster.org\n",
            "techbuster@techbuster.org\n",
            "\n",
            "Enter your phone number2547777777777\n",
            "2547777777777\n",
            "\n",
            "Enter your current city of residenceNai\n",
            "Nai\n",
            "\n",
            "What is your Mailing address/ Physical address?7777 Tech ave\n",
            "7777 Tech ave\n"
          ],
          "name": "stdout"
        }
      ]
    },
    {
      "cell_type": "markdown",
      "metadata": {
        "id": "HZEPyZcb4LwO"
      },
      "source": [
        "- Instructions: Copy and run the below program in your IDE of choice then take a screenshot and\n",
        "upload to your GitHub account. Then send me an email to: OpenSourceIt2020@gmail.com.\n",
        "Good Luck and good Job.\n",
        "- #Enter first and last name\n",
        "names = input(\"Enter first and last name\")\n",
        "print(names)\n",
        "print()\n",
        "- #Enter your goals for this class\n",
        "print(\"What are your goals for this class - long term goals?\")\n",
        "goals = input('What would you like to be....when all is said and done with the class?')\n",
        "print(goals)"
      ]
    }
  ]
}