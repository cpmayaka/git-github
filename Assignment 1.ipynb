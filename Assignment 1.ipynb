{
  "nbformat": 4,
  "nbformat_minor": 0,
  "metadata": {
    "colab": {
      "name": "Untitled0.ipynb",
      "provenance": [],
      "authorship_tag": "ABX9TyMT2uuUBGUX5Rs11EDj/kuD",
      "include_colab_link": true
    },
    "kernelspec": {
      "name": "python3",
      "display_name": "Python 3"
    },
    "language_info": {
      "name": "python"
    }
  },
  "cells": [
    {
      "cell_type": "markdown",
      "metadata": {
        "id": "view-in-github",
        "colab_type": "text"
      },
      "source": [
        "<a href=\"https://colab.research.google.com/github/cpmayaka/git-github/blob/main/Assignment%201.ipynb\" target=\"_parent\"><img src=\"https://colab.research.google.com/assets/colab-badge.svg\" alt=\"Open In Colab\"/></a>"
      ]
    },
    {
      "cell_type": "code",
      "metadata": {
        "id": "1WL8l8UP17uw"
      },
      "source": [
        ""
      ],
      "execution_count": null,
      "outputs": []
    },
    {
      "cell_type": "markdown",
      "metadata": {
        "id": "Vsxyo78S2Z7M"
      },
      "source": [
        "# Assignment 1"
      ]
    },
    {
      "cell_type": "code",
      "metadata": {
        "colab": {
          "base_uri": "https://localhost:8080/"
        },
        "id": "mA4q14hv4smd",
        "outputId": "5147f175-7454-4801-9d04-9210ae9732c2"
      },
      "source": [
        "#names = input(\"Enter first and last name\")\n",
        "First = \"Chris\"\n",
        "Last = \"Mayaka\"\n",
        "\n",
        "print(First)\n",
        "print(Last)\n",
        "\n",
        "#What are the Goals for this class - long term goals \n",
        "print(\"Goals are listed below\")\n",
        "print(\"1 Improve programming skills\")\n",
        "print(\"2 Augment Cybersecuirty SKills\")\n",
        "print(\"3 Become a mentor to others in cybersecurity and associated coding needed\")"
      ],
      "execution_count": 2,
      "outputs": [
        {
          "output_type": "stream",
          "text": [
            "Chris\n",
            "Mayaka\n",
            "Goals are listed below\n",
            "1 Improve programming skills\n",
            "2 Augment Cybersecuirty SKills\n",
            "3 Become a mentor to others in cybersecurity and associated coding needed\n"
          ],
          "name": "stdout"
        }
      ]
    },
    {
      "cell_type": "code",
      "metadata": {
        "id": "mYdRc6Py2ncP"
      },
      "source": [
        ""
      ],
      "execution_count": null,
      "outputs": []
    },
    {
      "cell_type": "markdown",
      "metadata": {
        "id": "HZEPyZcb4LwO"
      },
      "source": [
        "- Instructions: Copy and run the below program in your IDE of choice then take a screenshot and\n",
        "upload to your GitHub account. Then send me an email to: OpenSourceIt2020@gmail.com.\n",
        "Good Luck and good Job.\n",
        "- #Enter first and last name\n",
        "names = input(\"Enter first and last name\")\n",
        "print(names)\n",
        "print()\n",
        "- #Enter your goals for this class\n",
        "print(\"What are your goals for this class - long term goals?\")\n",
        "goals = input('What would you like to be....when all is said and done with the class?')\n",
        "print(goals)"
      ]
    }
  ]
}